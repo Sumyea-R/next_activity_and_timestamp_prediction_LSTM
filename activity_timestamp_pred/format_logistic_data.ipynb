{
 "cells": [
  {
   "cell_type": "code",
   "execution_count": 17,
   "id": "49a8e1ff",
   "metadata": {},
   "outputs": [],
   "source": [
    "import pandas as pd\n",
    "import numpy as np\n",
    "import networkx as nx\n",
    "import matplotlib.pyplot as plt\n",
    "from pre_process import preprocess_graph_attributes\n",
    "from datetime import datetime, timedelta\n",
    "from pm4py.objects.conversion.log import converter as xes_converter\n",
    "from pm4py.algo.filtering.log.attributes import attributes_filter\n",
    "from pm4py.objects.log.obj import EventLog, Trace, Event\n",
    "from utility import constants"
   ]
  },
  {
   "cell_type": "code",
   "execution_count": 18,
   "id": "9a4a7cd7",
   "metadata": {},
   "outputs": [],
   "source": [
    "logistic = pd.read_csv('logistics.csv')"
   ]
  },
  {
   "cell_type": "code",
   "execution_count": 19,
   "id": "1d2fb530",
   "metadata": {},
   "outputs": [],
   "source": [
    "#format timestamp\n",
    "for idx, row in logistic.iterrows():\n",
    "    logistic.loc[idx, 'time:timestamp'] = row['time:timestamp'].split('+')[0].split('.')[0]"
   ]
  },
  {
   "cell_type": "code",
   "execution_count": 20,
   "id": "01c9b325",
   "metadata": {},
   "outputs": [],
   "source": [
    "#convert to log\n",
    "logistic_log = xes_converter.apply(logistic, variant=xes_converter.Variants.TO_EVENT_LOG)"
   ]
  },
  {
   "cell_type": "code",
   "execution_count": 21,
   "id": "8602d4da",
   "metadata": {},
   "outputs": [],
   "source": [
    "#rename columns\n",
    "logistic = logistic.rename(columns = {'concept:name' : 'Equipment ID', 'time:timestamp' : 'Arrived Timestamp'})"
   ]
  },
  {
   "cell_type": "code",
   "execution_count": 22,
   "id": "1fcfdf2d",
   "metadata": {},
   "outputs": [],
   "source": [
    "#create empty columns \n",
    "columns_to_add = ['case:Init Datetime', 'case:Complete Datetime', 'EQTYP', 'Zone Name', 'Floor', 'case:Src Eqt', 'case:Dest Eqt', 'case:Src Loc', 'case:Dest Loc']\n",
    "\n",
    "for i in columns_to_add:\n",
    "    logistic[i] = \"\""
   ]
  },
  {
   "cell_type": "code",
   "execution_count": 23,
   "id": "330cb9e3",
   "metadata": {},
   "outputs": [],
   "source": [
    "#add equipment atrributes\n",
    "for idx, row in logistic.iterrows():\n",
    "    \n",
    "    logistic.loc[idx, 'EQTYP'] = row['Equipment ID'][0:2]\n",
    "    logistic.loc[idx, 'Zone Name'] = row['Equipment ID'][3:4]\n",
    "    logistic.loc[idx, 'Floor'] = row['Equipment ID'][2:3]\n",
    "    logistic.loc[idx, 'case:Src Loc'] = 'CSS9J'\n",
    "    logistic.loc[idx, 'case:Dest Loc'] = 'TPJB2'"
   ]
  },
  {
   "cell_type": "code",
   "execution_count": 24,
   "id": "189b6932",
   "metadata": {},
   "outputs": [],
   "source": [
    "#get case attributes\n",
    "case_attributes = []\n",
    "\n",
    "for case in logistic_log:\n",
    "    attribute = [case[0]['time:timestamp'], case[len(case) - 1]['time:timestamp'], case[0]['concept:name'], case[len(case) - 1]['concept:name']]\n",
    "    for i in range(len(case)):\n",
    "        case_attributes.append(attribute)\n",
    "    "
   ]
  },
  {
   "cell_type": "code",
   "execution_count": 25,
   "id": "380a5d82",
   "metadata": {},
   "outputs": [],
   "source": [
    "#add case attributes\n",
    "for idx, row in logistic.iterrows():\n",
    "    logistic.loc[idx, 'case:Init Datetime'] = case_attributes[idx][0]\n",
    "    logistic.loc[idx, 'case:Complete Datetime'] = case_attributes[idx][1]\n",
    "    logistic.loc[idx, 'case:Src Eqt'] = case_attributes[idx][2]\n",
    "    logistic.loc[idx, 'case:Dest Eqt'] = case_attributes[idx][3]"
   ]
  },
  {
   "cell_type": "code",
   "execution_count": 26,
   "id": "532eb670",
   "metadata": {},
   "outputs": [],
   "source": [
    "#convert to new log\n",
    "new_log = xes_converter.apply(logistic, variant=xes_converter.Variants.TO_EVENT_LOG)"
   ]
  },
  {
   "cell_type": "code",
   "execution_count": 27,
   "id": "682baaf8",
   "metadata": {},
   "outputs": [],
   "source": [
    "#add departed timestamp\n",
    "departed_timestamp = []\n",
    "\n",
    "for case in new_log:\n",
    "    for idx, event in enumerate(case):\n",
    "        if idx < len(case) - 1:\n",
    "            departed_timestamp.append(case[idx+1]['Arrived Timestamp'])\n",
    "        else:\n",
    "            departed_timestamp.append(case.attributes['Complete Datetime'])\n",
    "\n",
    "logistic['Departed Timestamp'] = departed_timestamp"
   ]
  },
  {
   "cell_type": "code",
   "execution_count": 28,
   "id": "0f0eeab1",
   "metadata": {},
   "outputs": [],
   "source": [
    "#save as csv\n",
    "logistic.to_csv('logistics_format.csv')"
   ]
  },
  {
   "cell_type": "code",
   "execution_count": null,
   "id": "f0245d0d",
   "metadata": {},
   "outputs": [],
   "source": []
  }
 ],
 "metadata": {
  "kernelspec": {
   "display_name": "Python 3 (ipykernel)",
   "language": "python",
   "name": "python3"
  },
  "language_info": {
   "codemirror_mode": {
    "name": "ipython",
    "version": 3
   },
   "file_extension": ".py",
   "mimetype": "text/x-python",
   "name": "python",
   "nbconvert_exporter": "python",
   "pygments_lexer": "ipython3",
   "version": "3.8.13"
  }
 },
 "nbformat": 4,
 "nbformat_minor": 5
}
