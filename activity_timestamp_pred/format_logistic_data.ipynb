{
 "cells": [
  {
   "cell_type": "code",
   "execution_count": 17,
   "id": "49a8e1ff",
   "metadata": {},
   "outputs": [],
   "source": [
    "import pandas as pd\n",
    "import numpy as np\n",
    "import networkx as nx\n",
    "import matplotlib.pyplot as plt\n",
    "from pre_process import preprocess_graph_attributes\n",
    "from datetime import datetime, timedelta\n",
    "from pm4py.objects.conversion.log import converter as xes_converter\n",
    "from pm4py.algo.filtering.log.attributes import attributes_filter\n",
    "from pm4py.objects.log.obj import EventLog, Trace, Event\n",
    "from utility import constants"
   ]
  },
  {
   "cell_type": "code",
   "execution_count": 18,
   "id": "9a4a7cd7",
   "metadata": {},
   "outputs": [],
   "source": [
    "logistic = pd.read_csv('logistics.csv')"
   ]
  },
  {
   "cell_type": "code",
   "execution_count": 19,
   "id": "1d2fb530",
   "metadata": {},
   "outputs": [],
   "source": [
    "#format timestamp\n",
    "for idx, row in logistic.iterrows():\n",
    "    logistic.loc[idx, 'time:timestamp'] = row['time:timestamp'].split('+')[0].split('.')[0]"
   ]
  },
  {
   "cell_type": "code",
   "execution_count": 20,
   "id": "01c9b325",
   "metadata": {},
   "outputs": [],
   "source": [
    "#convert to log\n",
    "logistic_log = xes_converter.apply(logistic, variant=xes_converter.Variants.TO_EVENT_LOG)"
   ]
  },
  {
   "cell_type": "code",
   "execution_count": 21,
   "id": "8602d4da",
   "metadata": {},
   "outputs": [],
   "source": [
    "#rename columns\n",
    "logistic = logistic.rename(columns = {'concept:name' : 'Equipment ID', 'time:timestamp' : 'Arrived Timestamp'})"
   ]
  },
  {
   "cell_type": "code",
   "execution_count": 22,
   "id": "1fcfdf2d",
   "metadata": {},
   "outputs": [],
   "source": [
    "#create empty columns \n",
    "columns_to_add = ['case:Init Datetime', 'case:Complete Datetime', 'EQTYP', 'Zone Name', 'Floor', 'case:Src Eqt', 'case:Dest Eqt', 'case:Src Loc', 'case:Dest Loc']\n",
    "\n",
    "for i in columns_to_add:\n",
    "    logistic[i] = \"\""
   ]
  },
  {
   "cell_type": "code",
   "execution_count": 23,
   "id": "330cb9e3",
   "metadata": {},
   "outputs": [],
   "source": [
    "#add equipment atrributes\n",
    "for idx, row in logistic.iterrows():\n",
    "    \n",
    "    logistic.loc[idx, 'EQTYP'] = row['Equipment ID'][0:2]\n",
    "    logistic.loc[idx, 'Zone Name'] = row['Equipment ID'][3:4]\n",
    "    logistic.loc[idx, 'Floor'] = row['Equipment ID'][2:3]\n",
    "    logistic.loc[idx, 'case:Src Loc'] = 'CSS9J'\n",
    "    logistic.loc[idx, 'case:Dest Loc'] = 'TPJB2'"
   ]
  },
  {
   "cell_type": "code",
   "execution_count": 24,
   "id": "189b6932",
   "metadata": {},
   "outputs": [],
   "source": [
    "#get case attributes\n",
    "case_attributes = []\n",
    "\n",
    "for case in logistic_log:\n",
    "    attribute = [case[0]['time:timestamp'], case[len(case) - 1]['time:timestamp'], case[0]['concept:name'], case[len(case) - 1]['concept:name']]\n",
    "    for i in range(len(case)):\n",
    "        case_attributes.append(attribute)\n",
    "    "
   ]
  },
  {
   "cell_type": "code",
   "execution_count": 25,
   "id": "380a5d82",
   "metadata": {},
   "outputs": [],
   "source": [
    "#add case attributes\n",
    "for idx, row in logistic.iterrows():\n",
    "    logistic.loc[idx, 'case:Init Datetime'] = case_attributes[idx][0]\n",
    "    logistic.loc[idx, 'case:Complete Datetime'] = case_attributes[idx][1]\n",
    "    logistic.loc[idx, 'case:Src Eqt'] = case_attributes[idx][2]\n",
    "    logistic.loc[idx, 'case:Dest Eqt'] = case_attributes[idx][3]"
   ]
  },
  {
   "cell_type": "code",
   "execution_count": 26,
   "id": "532eb670",
   "metadata": {},
   "outputs": [],
   "source": [
    "#convert to new log\n",
    "new_log = xes_converter.apply(logistic, variant=xes_converter.Variants.TO_EVENT_LOG)"
   ]
  },
  {
   "cell_type": "code",
   "execution_count": 27,
   "id": "682baaf8",
   "metadata": {},
   "outputs": [],
   "source": [
    "#add departed timestamp\n",
    "departed_timestamp = []\n",
    "\n",
    "for case in new_log:\n",
    "    for idx, event in enumerate(case):\n",
    "        if idx < len(case) - 1:\n",
    "            departed_timestamp.append(case[idx+1]['Arrived Timestamp'])\n",
    "        else:\n",
    "            departed_timestamp.append(case.attributes['Complete Datetime'])\n",
    "\n",
    "logistic['Departed Timestamp'] = departed_timestamp"
   ]
  },
  {
   "cell_type": "code",
   "execution_count": 28,
   "id": "0f0eeab1",
   "metadata": {},
   "outputs": [],
   "source": [
    "#save as csv\n",
    "logistic.to_csv('logistics_format_CSS9J_TPJB2.csv')"
   ]
  },
  {
   "cell_type": "code",
   "execution_count": 14,
   "id": "949a5d01",
   "metadata": {},
   "outputs": [
    {
     "data": {
      "text/html": [
       "<div>\n",
       "<style scoped>\n",
       "    .dataframe tbody tr th:only-of-type {\n",
       "        vertical-align: middle;\n",
       "    }\n",
       "\n",
       "    .dataframe tbody tr th {\n",
       "        vertical-align: top;\n",
       "    }\n",
       "\n",
       "    .dataframe thead th {\n",
       "        text-align: right;\n",
       "    }\n",
       "</style>\n",
       "<table border=\"1\" class=\"dataframe\">\n",
       "  <thead>\n",
       "    <tr style=\"text-align: right;\">\n",
       "      <th></th>\n",
       "      <th>Unnamed: 0</th>\n",
       "      <th>Equipment ID</th>\n",
       "      <th>Arrived Timestamp</th>\n",
       "      <th>case:concept:name</th>\n",
       "      <th>case:Init Datetime</th>\n",
       "      <th>case:Complete Datetime</th>\n",
       "      <th>EQTYP</th>\n",
       "      <th>Zone Name</th>\n",
       "      <th>Floor</th>\n",
       "      <th>case:Src Eqt</th>\n",
       "      <th>case:Dest Eqt</th>\n",
       "      <th>case:Src Loc</th>\n",
       "      <th>case:Dest Loc</th>\n",
       "      <th>Departed Timestamp</th>\n",
       "    </tr>\n",
       "  </thead>\n",
       "  <tbody>\n",
       "    <tr>\n",
       "      <th>0</th>\n",
       "      <td>0</td>\n",
       "      <td>FR9J0835</td>\n",
       "      <td>2021-04-16 11:46:05</td>\n",
       "      <td>6012140884</td>\n",
       "      <td>2021-04-16 11:46:05</td>\n",
       "      <td>2021-04-16 13:05:42</td>\n",
       "      <td>FR</td>\n",
       "      <td>J</td>\n",
       "      <td>9</td>\n",
       "      <td>FR9J0835</td>\n",
       "      <td>PR2U1433</td>\n",
       "      <td>CSS9J</td>\n",
       "      <td>PCHGK</td>\n",
       "      <td>2021-04-16 11:46:15</td>\n",
       "    </tr>\n",
       "    <tr>\n",
       "      <th>1</th>\n",
       "      <td>1</td>\n",
       "      <td>PR2K1512</td>\n",
       "      <td>2021-04-16 11:46:15</td>\n",
       "      <td>6012140884</td>\n",
       "      <td>2021-04-16 11:46:05</td>\n",
       "      <td>2021-04-16 13:05:42</td>\n",
       "      <td>PR</td>\n",
       "      <td>K</td>\n",
       "      <td>2</td>\n",
       "      <td>FR9J0835</td>\n",
       "      <td>PR2U1433</td>\n",
       "      <td>CSS9J</td>\n",
       "      <td>PCHGK</td>\n",
       "      <td>2021-04-16 11:46:27</td>\n",
       "    </tr>\n",
       "    <tr>\n",
       "      <th>2</th>\n",
       "      <td>2</td>\n",
       "      <td>PR2K1513</td>\n",
       "      <td>2021-04-16 11:46:27</td>\n",
       "      <td>6012140884</td>\n",
       "      <td>2021-04-16 11:46:05</td>\n",
       "      <td>2021-04-16 13:05:42</td>\n",
       "      <td>PR</td>\n",
       "      <td>K</td>\n",
       "      <td>2</td>\n",
       "      <td>FR9J0835</td>\n",
       "      <td>PR2U1433</td>\n",
       "      <td>CSS9J</td>\n",
       "      <td>PCHGK</td>\n",
       "      <td>2021-04-16 11:46:38</td>\n",
       "    </tr>\n",
       "    <tr>\n",
       "      <th>3</th>\n",
       "      <td>3</td>\n",
       "      <td>PR2K1514</td>\n",
       "      <td>2021-04-16 11:46:38</td>\n",
       "      <td>6012140884</td>\n",
       "      <td>2021-04-16 11:46:05</td>\n",
       "      <td>2021-04-16 13:05:42</td>\n",
       "      <td>PR</td>\n",
       "      <td>K</td>\n",
       "      <td>2</td>\n",
       "      <td>FR9J0835</td>\n",
       "      <td>PR2U1433</td>\n",
       "      <td>CSS9J</td>\n",
       "      <td>PCHGK</td>\n",
       "      <td>2021-04-16 11:46:50</td>\n",
       "    </tr>\n",
       "    <tr>\n",
       "      <th>4</th>\n",
       "      <td>4</td>\n",
       "      <td>PR2K1515</td>\n",
       "      <td>2021-04-16 11:46:50</td>\n",
       "      <td>6012140884</td>\n",
       "      <td>2021-04-16 11:46:05</td>\n",
       "      <td>2021-04-16 13:05:42</td>\n",
       "      <td>PR</td>\n",
       "      <td>K</td>\n",
       "      <td>2</td>\n",
       "      <td>FR9J0835</td>\n",
       "      <td>PR2U1433</td>\n",
       "      <td>CSS9J</td>\n",
       "      <td>PCHGK</td>\n",
       "      <td>2021-04-16 11:47:02</td>\n",
       "    </tr>\n",
       "  </tbody>\n",
       "</table>\n",
       "</div>"
      ],
      "text/plain": [
       "   Unnamed: 0 Equipment ID    Arrived Timestamp  case:concept:name  \\\n",
       "0           0     FR9J0835  2021-04-16 11:46:05         6012140884   \n",
       "1           1     PR2K1512  2021-04-16 11:46:15         6012140884   \n",
       "2           2     PR2K1513  2021-04-16 11:46:27         6012140884   \n",
       "3           3     PR2K1514  2021-04-16 11:46:38         6012140884   \n",
       "4           4     PR2K1515  2021-04-16 11:46:50         6012140884   \n",
       "\n",
       "    case:Init Datetime case:Complete Datetime EQTYP Zone Name Floor  \\\n",
       "0  2021-04-16 11:46:05    2021-04-16 13:05:42    FR         J     9   \n",
       "1  2021-04-16 11:46:05    2021-04-16 13:05:42    PR         K     2   \n",
       "2  2021-04-16 11:46:05    2021-04-16 13:05:42    PR         K     2   \n",
       "3  2021-04-16 11:46:05    2021-04-16 13:05:42    PR         K     2   \n",
       "4  2021-04-16 11:46:05    2021-04-16 13:05:42    PR         K     2   \n",
       "\n",
       "  case:Src Eqt case:Dest Eqt case:Src Loc case:Dest Loc   Departed Timestamp  \n",
       "0     FR9J0835      PR2U1433        CSS9J         PCHGK  2021-04-16 11:46:15  \n",
       "1     FR9J0835      PR2U1433        CSS9J         PCHGK  2021-04-16 11:46:27  \n",
       "2     FR9J0835      PR2U1433        CSS9J         PCHGK  2021-04-16 11:46:38  \n",
       "3     FR9J0835      PR2U1433        CSS9J         PCHGK  2021-04-16 11:46:50  \n",
       "4     FR9J0835      PR2U1433        CSS9J         PCHGK  2021-04-16 11:47:02  "
      ]
     },
     "execution_count": 14,
     "metadata": {},
     "output_type": "execute_result"
    }
   ],
   "source": [
    "logistic.head(5)"
   ]
  },
  {
   "cell_type": "code",
   "execution_count": null,
   "id": "f0245d0d",
   "metadata": {},
   "outputs": [],
   "source": []
  }
 ],
 "metadata": {
  "kernelspec": {
   "display_name": "Python 3 (ipykernel)",
   "language": "python",
   "name": "python3"
  },
  "language_info": {
   "codemirror_mode": {
    "name": "ipython",
    "version": 3
   },
   "file_extension": ".py",
   "mimetype": "text/x-python",
   "name": "python",
   "nbconvert_exporter": "python",
   "pygments_lexer": "ipython3",
   "version": "3.8.13"
  }
 },
 "nbformat": 4,
 "nbformat_minor": 5
}
